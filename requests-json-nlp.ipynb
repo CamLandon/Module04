{
 "cells": [
  {
   "cell_type": "markdown",
   "metadata": {},
   "source": [
    "# Web Mining and Applied NLP (44-620)\n",
    "\n",
    "## Requests, JSON, and NLP\n",
    "\n",
    "### Student Name: Cameron Landon\n",
    "### Github Repo: https://github.com/CamLandon/Module04\n",
    "\n",
    "Perform the tasks described in the Markdown cells below.  When you have completed the assignment make sure your code cells have all been run (and have output beneath them) and ensure you have committed and pushed ALL of your changes to your assignment repository.\n",
    "\n",
    "Make sure you have [installed spaCy and its pipeline](https://spacy.io/usage#quickstart) and [spaCyTextBlob](https://spacy.io/universe/project/spacy-textblob)\n",
    "\n",
    "Every question that requires you to write code will have a code cell underneath it; you may either write your entire solution in that cell or write it in a python file (`.py`), then import and run the appropriate code to answer the question.\n",
    "\n",
    "This assignment requires that you write additional files (either JSON or pickle files); make sure to submit those files in your repository as well."
   ]
  },
  {
   "cell_type": "markdown",
   "metadata": {},
   "source": [
    "### Question 1"
   ]
  },
  {
   "cell_type": "markdown",
   "metadata": {},
   "source": [
    "1. The following code accesses the [lyrics.ovh](https://lyricsovh.docs.apiary.io/#reference/0/lyrics-of-a-song/search) public api, searches for the lyrics of a song, and stores it in a dictionary object.  Write the resulting json to a file (either a JSON file or a pickle file; you choose). You will read in the contents of this file for future questions so we do not need to frequently access the API."
   ]
  },
  {
   "cell_type": "code",
   "execution_count": 55,
   "metadata": {},
   "outputs": [
    {
     "name": "stdout",
     "output_type": "stream",
     "text": [
      "Searching for songs by Michael Buble...\n",
      "\n",
      "Changing artist name to 'Michael Bublé'\n",
      "Song 1: \"L O V E\"\n",
      "Song 2: \"Haven’t Met You Yet\"\n",
      "Song 3: \"Feeling Good\"\n",
      "Song 4: \"It’s Beginning to Look a Lot Like Christmas\"\n",
      "Song 5: \"Home\"\n",
      "\n",
      "Reached user-specified song limit (5).\n",
      "Done. Found 5 songs.\n",
      "[Song(id, artist, ...), Song(id, artist, ...), Song(id, artist, ...), Song(id, artist, ...), Song(id, artist, ...)]\n",
      "Searching for \"Everything\" by Michael Bublé...\n",
      "Done.\n"
     ]
    }
   ],
   "source": [
    "import requests\n",
    "import json\n",
    "\n",
    "#result = json.loads(requests.get('https://api.lyrics.ovh/v1/They Might Be Giants/Birdhouse in your soul').text)\n",
    "\n",
    "import lyricsgenius\n",
    "\n",
    "# Lyric Genius Object\n",
    "genius = lyricsgenius.Genius(\"rx2lKqQOFxH5NoWp0Boky27F4XGVPebC0hpUnmE-LJHcGMbH3CYz0EK6jBpJP7ot\")\n",
    "\n",
    "# Artist\n",
    "artist = genius.search_artist(\"Michael Buble\", max_songs=5)\n",
    "print(artist.songs)\n",
    "\n",
    "# Getting Song\n",
    "song = artist.song(\"Everything\")\n",
    "\n",
    "# Saving Lyrics\n",
    "\n",
    "lyrics = song.lyrics\n",
    "\n",
    "# Dictionary\n",
    "song_dict = {\n",
    "    'artist': 'Michael Buble',\n",
    "    'title': 'Everything',\n",
    "    'lyrics': lyrics \n",
    "}\n",
    "\n",
    "with open('everything.json', 'w') as new_file:\n",
    "    json.dump(song_dict, new_file)"
   ]
  },
  {
   "cell_type": "markdown",
   "metadata": {},
   "source": [
    "### Question 2"
   ]
  },
  {
   "cell_type": "markdown",
   "metadata": {},
   "source": [
    "2. Read in the contents of your file.  Print the lyrics of the song (not the entire dictionary!) and use spaCyTextBlob to perform sentiment analysis on the lyrics.  Print the polarity score of the sentiment analysis.  Given that the range of the polarity score is `[-1.0,1.0]` which corresponds to how positive or negative the text in question is, do you think the lyrics have a more positive or negative connotaion?  Answer this question in a comment in your code cell."
   ]
  },
  {
   "cell_type": "code",
   "execution_count": 56,
   "metadata": {},
   "outputs": [
    {
     "name": "stdout",
     "output_type": "stream",
     "text": [
      "Lyrics:\n",
      "14 ContributorsEverything Lyrics[Verse 1]\n",
      "You're a falling star, you're the getaway car\n",
      "You're the line in the sand when I go too far\n",
      "You're the swimming pool on an August day\n",
      "And you're the perfect thing to say\n",
      "\n",
      "[Pre-Chorus 1]\n",
      "And you play it coy, but it's kinda cute\n",
      "Ah, when you smile at me, you know exactly what you do\n",
      "Baby, don't pretend that you don't know it's true\n",
      "'Cause you can see it when I look at you\n",
      "\n",
      "[Chorus]\n",
      "And in this crazy life, and through these crazy times\n",
      "It's you, it's you, you make me sing\n",
      "You're every line, you're every word\n",
      "You're everything\n",
      "\n",
      "[Verse 2]\n",
      "You're a carousel, you're a wishing well\n",
      "And you light me up, when you ring my bell\n",
      "You're a mystery, you're from outer space\n",
      "You're every minute of my everyday\n",
      "\n",
      "[Pre-Chorus 2]\n",
      "And I can't believe, uh, that I'm your man\n",
      "And I get to kiss you, baby, just because I can\n",
      "Whatever comes our way, ah, we'll see it through\n",
      "And you know that's what our love can do\n",
      "See Michael Bublé LiveGet tickets as low as $44You might also like[Chorus]\n",
      "And in this crazy life, and through these crazy times\n",
      "It's you, it's you, you make me sing\n",
      "You're every line, you're every word\n",
      "You're everything\n",
      "\n",
      "[Bridge]\n",
      "So, la, la, la, la, la, la, la\n",
      "So, la, la, la, la, la, la, la\n",
      "\n",
      "[Chorus]\n",
      "And in this crazy life, and through these crazy times\n",
      "It's you, it's you, you make me sing\n",
      "You're every line, you're every word\n",
      "You're everything\n",
      "\n",
      "[Post-Chorus]\n",
      "You're every song, and I sing along\n",
      "'Cause you're my everything\n",
      "Yeah, yeah\n",
      "\n",
      "[Bridge]\n",
      "So, la, la, la, la, la, la, la\n",
      "So, la, la, la, la, la, la, la8Embed\n"
     ]
    }
   ],
   "source": [
    "with open ('everything.json', 'r') as everything_lyrics:\n",
    "    lyric = json.load(everything_lyrics)\n",
    "\n",
    "lyrics = lyric[\"lyrics\"]\n",
    "\n",
    "print(\"Lyrics:\")\n",
    "print(lyrics)"
   ]
  },
  {
   "cell_type": "code",
   "execution_count": 58,
   "metadata": {},
   "outputs": [
    {
     "name": "stdout",
     "output_type": "stream",
     "text": [
      "Polarity Score:  -0.025\n"
     ]
    },
    {
     "data": {
      "text/plain": [
       "'\\nI am very surprised at the negative polarity score of -0.025. To my understanding, it means that this sone is a pretty negative song.\\nBecause a lot of lyrics are speaking on the feelings the singer has towards to whom they are singing.\\n'"
      ]
     },
     "execution_count": 58,
     "metadata": {},
     "output_type": "execute_result"
    }
   ],
   "source": [
    "# use spaCyTextBlob to perform sentiment analysis on the lyrics.  Print the polarity score of the sentiment analysis.  \n",
    "# Given that the range of the polarity score is `[-1.0,1.0]` which corresponds to how positive or negative the text in \n",
    "# question is, do you think the lyrics have a more positive or negative connotaion?\n",
    "# Answer this question in a comment in your code cell.\n",
    "\n",
    "import spacy\n",
    "from spacytextblob.spacytextblob import SpacyTextBlob\n",
    "\n",
    "nlp = spacy.load('en_core_web_sm')\n",
    "nlp.add_pipe('spacytextblob')\n",
    "\n",
    "doc = nlp(lyrics)\n",
    "\n",
    "# Getting Sentiment\n",
    "print('Polarity Score: ', doc._.blob.polarity)\n",
    "\n",
    "\"\"\"\n",
    "I am very surprised at the negative polarity score of -0.025. To my understanding, it means that this sone is a pretty negative song.\n",
    "Because a lot of lyrics are speaking on the feelings the singer has towards to whom they are singing.\n",
    "\"\"\""
   ]
  },
  {
   "cell_type": "markdown",
   "metadata": {},
   "source": [
    "### Question 3"
   ]
  },
  {
   "cell_type": "markdown",
   "metadata": {},
   "source": [
    "3. Write a function that takes an artist, song, and filename, accesses the lyrics.ovh api to get the song lyrics, and writes the results to the specified filename.  Test this function by getting the lyrics to any four songs of your choice and storing them in different files."
   ]
  },
  {
   "cell_type": "code",
   "execution_count": 59,
   "metadata": {},
   "outputs": [
    {
     "name": "stdout",
     "output_type": "stream",
     "text": [
      "Searching for songs by Tevin Campbell...\n",
      "\n",
      "Song 1: \"Can We Talk?\"\n",
      "\n",
      "Reached user-specified song limit (1).\n",
      "Done. Found 1 songs.\n",
      "Searching for \"Stand Out\" by Tevin Campbell...\n",
      "Done.\n",
      "Searching for songs by Michael Buble...\n",
      "\n",
      "Changing artist name to 'Michael Bublé'\n",
      "Song 1: \"L O V E\"\n",
      "\n",
      "Reached user-specified song limit (1).\n",
      "Done. Found 1 songs.\n",
      "Searching for \"Everything\" by Michael Bublé...\n",
      "Done.\n",
      "Searching for songs by Distubed...\n",
      "\n",
      "Changing artist name to 'Disturbed'\n",
      "Song 1: \"The Sound of Silence\"\n",
      "\n",
      "Reached user-specified song limit (1).\n",
      "Done. Found 1 songs.\n",
      "Searching for songs by The Script...\n",
      "\n",
      "Song 1: \"Hall of Fame\"\n",
      "\n",
      "Reached user-specified song limit (1).\n",
      "Done. Found 1 songs.\n",
      "Searching for \"The Man Who Can't Be Moved\" by The Script...\n",
      "Done.\n"
     ]
    }
   ],
   "source": [
    "import lyricsgenius\n",
    "import json\n",
    "import os\n",
    "\n",
    "def pull_lyrics_from_api(artist, song, filename):\n",
    "    access_token = 'rx2lKqQOFxH5NoWp0Boky27F4XGVPebC0hpUnmE-LJHcGMbH3CYz0EK6jBpJP7ot'\n",
    "    genius = lyricsgenius.Genius(access_token)\n",
    "    artist = genius.search_artist(artist, max_songs=1, get_full_info=False)\n",
    "    song = artist.song(song)\n",
    "    with open(filename+'_lyrics.json', 'w') as filename:\n",
    "        json.dump(song.lyrics, filename)\n",
    "        \n",
    "pull_lyrics_from_api(\"Tevin Campbell\", \"Stand Out\", \"stand_out\")\n",
    "pull_lyrics_from_api(\"Michael Buble\", \"Everything\", \"everything\")\n",
    "pull_lyrics_from_api(\"Distubed\", \"The Sound of Silence\", \"the_sound_of_silence\")\n",
    "pull_lyrics_from_api(\"The Script\", \"The Man Who Can't Be Moved\", \"the_man_who_cant_be_moved\")"
   ]
  },
  {
   "cell_type": "markdown",
   "metadata": {},
   "source": [
    "### Quesiton 4"
   ]
  },
  {
   "cell_type": "markdown",
   "metadata": {},
   "source": [
    "4. Write a function that takes the name of a file that contains song lyrics, loads the file, performs sentiment analysis, and returns the polarity score.  Use this function to print the polarity scores (with the name of the song) of the three files you created in question 3.  Does the reported polarity match your understanding of the song's lyrics? Why or why not do you think that might be?  Answer the questions in either a comment in the code cell or a markdown cell under the code cell."
   ]
  },
  {
   "cell_type": "code",
   "execution_count": 63,
   "metadata": {},
   "outputs": [
    {
     "name": "stdout",
     "output_type": "stream",
     "text": [
      "The Sentiment Polarity of everything_lyrics.json: -0.025\n",
      "The Sentiment Polarity of stand_out_lyrics.json: 0.009259259259259262\n",
      "The Sentiment Polarity of the_man_who_cant_be_moved_lyrics.json: 0.024305555555555563\n",
      "The Sentiment Polarity of the_sound_of_silence_lyrics.json: 0.1588235294117647\n"
     ]
    }
   ],
   "source": [
    "import spacy\n",
    "from spacytextblob.spacytextblob import SpacyTextBlob\n",
    "import json\n",
    "\n",
    "def sentiment_analyzed(filename):\n",
    "    nlp = spacy.load('en_core_web_sm')\n",
    "    nlp.add_pipe('spacytextblob')\n",
    "    with open(filename, 'r') as f:\n",
    "        lyrics = json.load(f)\n",
    "    doc = nlp(lyrics)\n",
    "    polarity = doc._.blob.polarity\n",
    "    \n",
    "    print(f'The Sentiment Polarity of {filename}: {polarity}')\n",
    "    \n",
    "sentiment_analyzed('everything_lyrics.json')\n",
    "sentiment_analyzed('stand_out_lyrics.json')\n",
    "sentiment_analyzed('the_man_who_cant_be_moved_lyrics.json')\n",
    "sentiment_analyzed('the_sound_of_silence_lyrics.json')"
   ]
  },
  {
   "cell_type": "markdown",
   "metadata": {},
   "source": [
    "I know that this feature is primarily looking at the lyrics and cannot really \"hear\" the sounds of the melody,etc, but seeing as how the Sound of Silence was rated the hightest, or most positive in polarity really surprised me. "
   ]
  },
  {
   "cell_type": "markdown",
   "metadata": {},
   "source": []
  }
 ],
 "metadata": {
  "kernelspec": {
   "display_name": "Python 3",
   "language": "python",
   "name": "python3"
  },
  "language_info": {
   "codemirror_mode": {
    "name": "ipython",
    "version": 3
   },
   "file_extension": ".py",
   "mimetype": "text/x-python",
   "name": "python",
   "nbconvert_exporter": "python",
   "pygments_lexer": "ipython3",
   "version": "3.11.4"
  }
 },
 "nbformat": 4,
 "nbformat_minor": 4
}
