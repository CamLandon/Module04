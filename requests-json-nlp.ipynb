{
 "cells": [
  {
   "cell_type": "markdown",
   "metadata": {},
   "source": [
    "# Web Mining and Applied NLP (44-620)\n",
    "\n",
    "## Requests, JSON, and NLP\n",
    "\n",
    "### Student Name: Cameron Landon\n",
    "### Github Repo: TEST INSERT URL HERE!!!!!!!!!!!\n",
    "\n",
    "Perform the tasks described in the Markdown cells below.  When you have completed the assignment make sure your code cells have all been run (and have output beneath them) and ensure you have committed and pushed ALL of your changes to your assignment repository.\n",
    "\n",
    "Make sure you have [installed spaCy and its pipeline](https://spacy.io/usage#quickstart) and [spaCyTextBlob](https://spacy.io/universe/project/spacy-textblob)\n",
    "\n",
    "Every question that requires you to write code will have a code cell underneath it; you may either write your entire solution in that cell or write it in a python file (`.py`), then import and run the appropriate code to answer the question.\n",
    "\n",
    "This assignment requires that you write additional files (either JSON or pickle files); make sure to submit those files in your repository as well."
   ]
  },
  {
   "cell_type": "code",
   "execution_count": 15,
   "metadata": {},
   "outputs": [
    {
     "name": "stdout",
     "output_type": "stream",
     "text": [
      "All prereqs installed.\n",
      "Package            Version\n",
      "------------------ ---------\n",
      "asttokens          2.2.1\n",
      "backcall           0.2.0\n",
      "blis               0.7.10\n",
      "boto3              1.26.118\n",
      "botocore           1.29.118\n",
      "catalogue          2.0.9\n",
      "certifi            2023.7.22\n",
      "charset-normalizer 3.2.0\n",
      "click              8.1.6\n",
      "colorama           0.4.6\n",
      "comm               0.1.3\n",
      "confection         0.1.0\n",
      "cymem              2.0.7\n",
      "debugpy            1.6.7\n",
      "decorator          5.1.1\n",
      "executing          1.2.0\n",
      "idna               3.4\n",
      "ipykernel          6.25.0\n",
      "ipython            8.14.0\n",
      "jedi               0.19.0\n",
      "Jinja2             3.1.2\n",
      "jmespath           1.0.1\n",
      "jupyter_client     8.3.0\n",
      "jupyter_core       5.3.1\n",
      "langcodes          3.3.0\n",
      "MarkupSafe         2.1.3\n",
      "matplotlib-inline  0.1.6\n",
      "murmurhash         1.0.9\n",
      "nest-asyncio       1.5.7\n",
      "numpy              1.25.1\n",
      "packaging          23.1\n",
      "parso              0.8.3\n",
      "pathy              0.10.2\n",
      "pickleshare        0.7.5\n",
      "pip                23.2.1\n",
      "platformdirs       3.10.0\n",
      "preshed            3.0.8\n",
      "prompt-toolkit     3.0.39\n",
      "psutil             5.9.5\n",
      "pure-eval          0.2.2\n",
      "pydantic           1.10.12\n",
      "Pygments           2.15.1\n",
      "python-dateutil    2.8.2\n",
      "pywin32            306\n",
      "pyzmq              25.1.0\n",
      "requests           2.31.0\n",
      "s3transfer         0.6.0\n",
      "setuptools         68.0.0\n",
      "six                1.16.0\n",
      "smart-open         6.3.0\n",
      "spacy              3.6.0\n",
      "spacy-legacy       3.0.12\n",
      "spacy-loggers      1.0.4\n",
      "srsly              2.4.7\n",
      "stack-data         0.6.2\n",
      "thinc              8.1.10\n",
      "tornado            6.3.2\n",
      "tqdm               4.65.0\n",
      "traitlets          5.9.0\n",
      "typer              0.9.0\n",
      "typing_extensions  4.7.1\n",
      "urllib3            1.26.15\n",
      "wasabi             1.1.2\n",
      "wcwidth            0.2.6\n",
      "wheel              0.41.0\n"
     ]
    }
   ],
   "source": [
    "import json\n",
    "import pickle\n",
    "\n",
    "import requests\n",
    "import spacy\n",
    "#from spacytextblob.spacytextblob import SpacyTextBlob\n",
    "\n",
    "\n",
    "\n",
    "print('All prereqs installed.')\n",
    "!pip list"
   ]
  },
  {
   "cell_type": "markdown",
   "metadata": {},
   "source": [
    "1. The following code accesses the [lyrics.ovh](https://lyricsovh.docs.apiary.io/#reference/0/lyrics-of-a-song/search) public api, searches for the lyrics of a song, and stores it in a dictionary object.  Write the resulting json to a file (either a JSON file or a pickle file; you choose). You will read in the contents of this file for future questions so we do not need to frequently access the API."
   ]
  },
  {
   "cell_type": "code",
   "execution_count": 17,
   "metadata": {},
   "outputs": [
    {
     "ename": "ModuleNotFoundError",
     "evalue": "No module named 'lyricsgenius'",
     "output_type": "error",
     "traceback": [
      "\u001b[1;31m---------------------------------------------------------------------------\u001b[0m",
      "\u001b[1;31mModuleNotFoundError\u001b[0m                       Traceback (most recent call last)",
      "Cell \u001b[1;32mIn[17], line 6\u001b[0m\n\u001b[0;32m      2\u001b[0m \u001b[39mimport\u001b[39;00m \u001b[39mjson\u001b[39;00m\n\u001b[0;32m      4\u001b[0m \u001b[39m# result = json.loads(requests.get('https://api.lyrics.ovh/v1/They Might Be Giants/Birdhouse in your soul').text)\u001b[39;00m\n\u001b[1;32m----> 6\u001b[0m \u001b[39mimport\u001b[39;00m \u001b[39mlyricsgenius\u001b[39;00m\n\u001b[0;32m      8\u001b[0m \u001b[39m# Lyric Genius Object\u001b[39;00m\n\u001b[0;32m      9\u001b[0m genius \u001b[39m=\u001b[39m lyricsgenius\u001b[39m.\u001b[39mGenius(\u001b[39m\"\u001b[39m\u001b[39mrx2lKqQOFxH5NoWp0Boky27F4XGVPebC0hpUnmE-LJHcGMbH3CYz0EK6jBpJP7ot\u001b[39m\u001b[39m\"\u001b[39m)\n",
      "\u001b[1;31mModuleNotFoundError\u001b[0m: No module named 'lyricsgenius'"
     ]
    }
   ],
   "source": [
    "import requests\n",
    "import json\n",
    "\n",
    "# result = json.loads(requests.get('https://api.lyrics.ovh/v1/They Might Be Giants/Birdhouse in your soul').text)\n",
    "\n",
    "import lyricsgenius\n",
    "\n",
    "# Lyric Genius Object\n",
    "genius = lyricsgenius.Genius(\"rx2lKqQOFxH5NoWp0Boky27F4XGVPebC0hpUnmE-LJHcGMbH3CYz0EK6jBpJP7ot\")\n",
    "\n",
    "# Artist\n",
    "artist = genius.search_artist(\"They Might Be Giants\", max_songs=3, sort=\"title\")\n",
    "print(artist.songs)\n",
    "\n",
    "# Getting Song\n",
    "song = artist.song(\"Biridhouse In Your Soul\")\n",
    "\n",
    "# Saving Lyrics\n",
    "\n",
    "lyrics = song.lyrics\n",
    "\n",
    "# Dictionary\n",
    "song_dict = {\n",
    "    'artist': 'They Might Be Giants',\n",
    "    'title': 'Birdhouse In Your Soul',\n",
    "    'lyrics': lyrics \n",
    "}\n",
    "\n",
    "with open('birdhouse_lyrics.json', 'w') as new_file:\n",
    "    json.dump(song_dict, new_file)"
   ]
  },
  {
   "cell_type": "markdown",
   "metadata": {},
   "source": [
    "2. Read in the contents of your file.  Print the lyrics of the song (not the entire dictionary!) and use spaCyTextBlob to perform sentiment analysis on the lyrics.  Print the polarity score of the sentiment analysis.  Given that the range of the polarity score is `[-1.0,1.0]` which corresponds to how positive or negative the text in question is, do you think the lyrics have a more positive or negative connotaion?  Answer this question in a comment in your code cell."
   ]
  },
  {
   "cell_type": "code",
   "execution_count": null,
   "metadata": {},
   "outputs": [],
   "source": []
  },
  {
   "cell_type": "markdown",
   "metadata": {},
   "source": [
    "3. Write a function that takes an artist, song, and filename, accesses the lyrics.ovh api to get the song lyrics, and writes the results to the specified filename.  Test this function by getting the lyrics to any four songs of your choice and storing them in different files."
   ]
  },
  {
   "cell_type": "code",
   "execution_count": null,
   "metadata": {},
   "outputs": [],
   "source": []
  },
  {
   "cell_type": "markdown",
   "metadata": {},
   "source": [
    "4. Write a function that takes the name of a file that contains song lyrics, loads the file, performs sentiment analysis, and returns the polarity score.  Use this function to print the polarity scores (with the name of the song) of the three files you created in question 3.  Does the reported polarity match your understanding of the song's lyrics? Why or why not do you think that might be?  Answer the questions in either a comment in the code cell or a markdown cell under the code cell."
   ]
  },
  {
   "cell_type": "code",
   "execution_count": null,
   "metadata": {},
   "outputs": [],
   "source": []
  }
 ],
 "metadata": {
  "kernelspec": {
   "display_name": "Python 3",
   "language": "python",
   "name": "python3"
  },
  "language_info": {
   "codemirror_mode": {
    "name": "ipython",
    "version": 3
   },
   "file_extension": ".py",
   "mimetype": "text/x-python",
   "name": "python",
   "nbconvert_exporter": "python",
   "pygments_lexer": "ipython3",
   "version": "3.11.4"
  }
 },
 "nbformat": 4,
 "nbformat_minor": 4
}
